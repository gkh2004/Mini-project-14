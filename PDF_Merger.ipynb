{
  "nbformat": 4,
  "nbformat_minor": 0,
  "metadata": {
    "colab": {
      "provenance": [],
      "authorship_tag": "ABX9TyOnBGp6yR8sIxcO8hNpPqs0",
      "include_colab_link": true
    },
    "kernelspec": {
      "name": "python3",
      "display_name": "Python 3"
    },
    "language_info": {
      "name": "python"
    }
  },
  "cells": [
    {
      "cell_type": "markdown",
      "metadata": {
        "id": "view-in-github",
        "colab_type": "text"
      },
      "source": [
        "<a href=\"https://colab.research.google.com/github/gkh2004/Mini-project-14/blob/main/PDF_Merger.ipynb\" target=\"_parent\"><img src=\"https://colab.research.google.com/assets/colab-badge.svg\" alt=\"Open In Colab\"/></a>"
      ]
    },
    {
      "cell_type": "code",
      "execution_count": 2,
      "metadata": {
        "colab": {
          "base_uri": "https://localhost:8080/"
        },
        "id": "6J1Bi2aFTPIO",
        "outputId": "ad6d0f64-ba23-4384-86ec-5061476086f3"
      },
      "outputs": [
        {
          "output_type": "stream",
          "name": "stdout",
          "text": [
            "Collecting PyPDF2\n",
            "  Downloading pypdf2-3.0.1-py3-none-any.whl.metadata (6.8 kB)\n",
            "Downloading pypdf2-3.0.1-py3-none-any.whl (232 kB)\n",
            "\u001b[2K   \u001b[90m━━━━━━━━━━━━━━━━━━━━━━━━━━━━━━━━━━━━━━━━\u001b[0m \u001b[32m232.6/232.6 kB\u001b[0m \u001b[31m3.6 MB/s\u001b[0m eta \u001b[36m0:00:00\u001b[0m\n",
            "\u001b[?25hInstalling collected packages: PyPDF2\n",
            "Successfully installed PyPDF2-3.0.1\n"
          ]
        }
      ],
      "source": [
        "!pip install PyPDF2\n"
      ]
    },
    {
      "cell_type": "code",
      "source": [
        "import PyPDF2\n",
        "\n",
        "def merge_pdfs(pdf_list, output_pdf):\n",
        "    merger = PyPDF2.PdfMerger()\n",
        "\n",
        "    try:\n",
        "        for pdf in pdf_list:\n",
        "            merger.append(pdf)\n",
        "\n",
        "        with open(output_pdf, 'wb') as fout:\n",
        "            merger.write(fout)\n",
        "\n",
        "        print(f\"PDFs merged successfully into '{output_pdf}'\")\n",
        "\n",
        "    except Exception as e:\n",
        "        print(f\"An error occurred: {e}\")\n",
        "    finally:\n",
        "        merger.close()\n",
        "\n",
        "# Example usage\n",
        "pdf_files = [\"File1.pdf\", \"File2.pdf\"]  # Replace with your actual PDF file names\n",
        "output_file = \"merged_output.pdf\"\n",
        "\n",
        "merge_pdfs(pdf_files, output_file)\n"
      ],
      "metadata": {
        "colab": {
          "base_uri": "https://localhost:8080/"
        },
        "id": "i4tNyaI1Ta6o",
        "outputId": "93920a3c-c110-4915-ec79-df2507fee4b9"
      },
      "execution_count": 3,
      "outputs": [
        {
          "output_type": "stream",
          "name": "stdout",
          "text": [
            "PDFs merged successfully into 'merged_output.pdf'\n"
          ]
        }
      ]
    }
  ]
}